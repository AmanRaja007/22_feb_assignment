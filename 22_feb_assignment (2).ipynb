{
 "cells": [
  {
   "cell_type": "markdown",
   "id": "f1bb5124-ccd4-428d-8a6c-192ea1904f16",
   "metadata": {},
   "source": [
    "Q1. Create a Pandas Series that contains the following data: 4, 8, 15, 16, 23, and 42. Then, print the series."
   ]
  },
  {
   "cell_type": "code",
   "execution_count": 26,
   "id": "4a8143d3-d184-4df6-8568-8eba012442fa",
   "metadata": {},
   "outputs": [],
   "source": [
    "import pandas as pd"
   ]
  },
  {
   "cell_type": "code",
   "execution_count": 27,
   "id": "57a2c62c-1878-4acd-969d-7526b2119d29",
   "metadata": {},
   "outputs": [],
   "source": [
    "data = pd.Series([4, 8, 15, 16, 23,42])"
   ]
  },
  {
   "cell_type": "code",
   "execution_count": 28,
   "id": "49e69a4e-5ff4-4578-8596-e86d7eeb9e35",
   "metadata": {},
   "outputs": [
    {
     "data": {
      "text/plain": [
       "0     4\n",
       "1     8\n",
       "2    15\n",
       "3    16\n",
       "4    23\n",
       "5    42\n",
       "dtype: int64"
      ]
     },
     "execution_count": 28,
     "metadata": {},
     "output_type": "execute_result"
    }
   ],
   "source": [
    "data"
   ]
  },
  {
   "cell_type": "markdown",
   "id": "2871d1b2-ccd1-4a85-b6a1-9279bbcb1abb",
   "metadata": {},
   "source": [
    "Q2. Create a variable of list type containing 10 elements in it, and apply pandas.Series function on the\n",
    "variable print it."
   ]
  },
  {
   "cell_type": "code",
   "execution_count": 13,
   "id": "afd0c5d8-36ad-487f-a874-535d4f796444",
   "metadata": {},
   "outputs": [],
   "source": [
    "var = [\"Aman\",22,\"sahil\",23,'eng','maths','pussy','camel','cock','mangos']"
   ]
  },
  {
   "cell_type": "code",
   "execution_count": 14,
   "id": "b03a4284-2c8c-4095-b8c2-23506ff189cc",
   "metadata": {},
   "outputs": [
    {
     "data": {
      "text/plain": [
       "0      Aman\n",
       "1        22\n",
       "2     sahil\n",
       "3        23\n",
       "4       eng\n",
       "5     maths\n",
       "6     pussy\n",
       "7     camel\n",
       "8      cock\n",
       "9    mangos\n",
       "dtype: object"
      ]
     },
     "execution_count": 14,
     "metadata": {},
     "output_type": "execute_result"
    }
   ],
   "source": [
    "pd.Series(var)"
   ]
  },
  {
   "cell_type": "markdown",
   "id": "b8d19545-3c6c-4cb5-98e1-68ae5615cdc3",
   "metadata": {},
   "source": [
    "Ques3 Create pandas data frame the contain the following data "
   ]
  },
  {
   "cell_type": "code",
   "execution_count": 15,
   "id": "53484a43-6898-430b-a654-9f24df090cda",
   "metadata": {},
   "outputs": [],
   "source": [
    "#solution\n",
    "df = pd.DataFrame({\"Name\":['Alice','Bob','Claire'] ,\"Age\":[25,30,27],\"Gender\":['Female','Male','Female']})"
   ]
  },
  {
   "cell_type": "code",
   "execution_count": 16,
   "id": "9bc94b30-2179-44fb-9f25-61bc7d5abd5c",
   "metadata": {},
   "outputs": [
    {
     "data": {
      "text/html": [
       "<div>\n",
       "<style scoped>\n",
       "    .dataframe tbody tr th:only-of-type {\n",
       "        vertical-align: middle;\n",
       "    }\n",
       "\n",
       "    .dataframe tbody tr th {\n",
       "        vertical-align: top;\n",
       "    }\n",
       "\n",
       "    .dataframe thead th {\n",
       "        text-align: right;\n",
       "    }\n",
       "</style>\n",
       "<table border=\"1\" class=\"dataframe\">\n",
       "  <thead>\n",
       "    <tr style=\"text-align: right;\">\n",
       "      <th></th>\n",
       "      <th>Name</th>\n",
       "      <th>Age</th>\n",
       "      <th>Gender</th>\n",
       "    </tr>\n",
       "  </thead>\n",
       "  <tbody>\n",
       "    <tr>\n",
       "      <th>0</th>\n",
       "      <td>Alice</td>\n",
       "      <td>25</td>\n",
       "      <td>Female</td>\n",
       "    </tr>\n",
       "    <tr>\n",
       "      <th>1</th>\n",
       "      <td>Bob</td>\n",
       "      <td>30</td>\n",
       "      <td>Male</td>\n",
       "    </tr>\n",
       "    <tr>\n",
       "      <th>2</th>\n",
       "      <td>Claire</td>\n",
       "      <td>27</td>\n",
       "      <td>Female</td>\n",
       "    </tr>\n",
       "  </tbody>\n",
       "</table>\n",
       "</div>"
      ],
      "text/plain": [
       "     Name  Age  Gender\n",
       "0   Alice   25  Female\n",
       "1     Bob   30    Male\n",
       "2  Claire   27  Female"
      ]
     },
     "execution_count": 16,
     "metadata": {},
     "output_type": "execute_result"
    }
   ],
   "source": [
    "df"
   ]
  },
  {
   "cell_type": "markdown",
   "id": "77e911bb-e58e-4976-87ed-9abba1b984a5",
   "metadata": {},
   "source": [
    "Q4. What is ‘DataFrame’ in pandas and how is it different from pandas.series? Explain with an example."
   ]
  },
  {
   "cell_type": "markdown",
   "id": "4bcec541-d5b8-4fb3-88ab-ab9bf1622722",
   "metadata": {},
   "source": [
    "#solution \n",
    "Series: A Series is a one-dimensional labeled array, similar to a single column in a spreadsheet or a database table. It holds data of any type (integers, strings, floats, etc.) with an associated index for efficient retrieval and manipulation. Think of it as a list with labels.\n",
    "\n",
    "DataFrame: A DataFrame, on the other hand, is a two-dimensional labeled data structure with columns and rows, much like a spreadsheet or a relational database table. Each column in a DataFrame is itself a Series. DataFrames can hold different data types in each column, providing a flexible way to store and organize tabular data."
   ]
  },
  {
   "cell_type": "code",
   "execution_count": 17,
   "id": "94cd0a01-4576-445f-ab0f-c902d990747c",
   "metadata": {},
   "outputs": [],
   "source": [
    "#example of series\n",
    "import pandas as pd\n",
    "\n",
    "students = [\"Sahil Amir\",\"Smarty_Aman\",\"nepali\",\"Moauga\"]\n",
    "\n",
    "maths_grade = pd.Series([10,100,50,62],index = students)\n",
    "eng_grade = pd.Series([100,10,50,85],index = students)\n",
    "science_grade = pd.Series([55,45,65,32],index = students)\n"
   ]
  },
  {
   "cell_type": "code",
   "execution_count": 18,
   "id": "c2ab0c6c-35f1-48e1-9c6d-eea02f84e0d5",
   "metadata": {},
   "outputs": [
    {
     "data": {
      "text/plain": [
       "0     Sahil Amir\n",
       "1    Smarty_Aman\n",
       "2         nepali\n",
       "3         Moauga\n",
       "dtype: object"
      ]
     },
     "execution_count": 18,
     "metadata": {},
     "output_type": "execute_result"
    }
   ],
   "source": [
    "pd.Series(students)"
   ]
  },
  {
   "cell_type": "code",
   "execution_count": 19,
   "id": "580db9c8-847e-4aa6-934d-e2951600b375",
   "metadata": {},
   "outputs": [],
   "source": [
    "#examples of data frame\n",
    "df_grades = pd.DataFrame({'maths':maths_grade,'english':eng_grade,'science':science_grade})"
   ]
  },
  {
   "cell_type": "code",
   "execution_count": 20,
   "id": "da98c943-a551-4cb3-b42a-e5cf6cab560c",
   "metadata": {},
   "outputs": [
    {
     "data": {
      "text/html": [
       "<div>\n",
       "<style scoped>\n",
       "    .dataframe tbody tr th:only-of-type {\n",
       "        vertical-align: middle;\n",
       "    }\n",
       "\n",
       "    .dataframe tbody tr th {\n",
       "        vertical-align: top;\n",
       "    }\n",
       "\n",
       "    .dataframe thead th {\n",
       "        text-align: right;\n",
       "    }\n",
       "</style>\n",
       "<table border=\"1\" class=\"dataframe\">\n",
       "  <thead>\n",
       "    <tr style=\"text-align: right;\">\n",
       "      <th></th>\n",
       "      <th>maths</th>\n",
       "      <th>english</th>\n",
       "      <th>science</th>\n",
       "    </tr>\n",
       "  </thead>\n",
       "  <tbody>\n",
       "    <tr>\n",
       "      <th>Sahil Amir</th>\n",
       "      <td>10</td>\n",
       "      <td>100</td>\n",
       "      <td>55</td>\n",
       "    </tr>\n",
       "    <tr>\n",
       "      <th>Smarty_Aman</th>\n",
       "      <td>100</td>\n",
       "      <td>10</td>\n",
       "      <td>45</td>\n",
       "    </tr>\n",
       "    <tr>\n",
       "      <th>nepali</th>\n",
       "      <td>50</td>\n",
       "      <td>50</td>\n",
       "      <td>65</td>\n",
       "    </tr>\n",
       "    <tr>\n",
       "      <th>Moauga</th>\n",
       "      <td>62</td>\n",
       "      <td>85</td>\n",
       "      <td>32</td>\n",
       "    </tr>\n",
       "  </tbody>\n",
       "</table>\n",
       "</div>"
      ],
      "text/plain": [
       "             maths  english  science\n",
       "Sahil Amir      10      100       55\n",
       "Smarty_Aman    100       10       45\n",
       "nepali          50       50       65\n",
       "Moauga          62       85       32"
      ]
     },
     "execution_count": 20,
     "metadata": {},
     "output_type": "execute_result"
    }
   ],
   "source": [
    "df_grades"
   ]
  },
  {
   "cell_type": "markdown",
   "id": "7a3a7f5a-3bbc-489b-8b83-9e859976a972",
   "metadata": {},
   "source": [
    "Q5. What are some common functions you can use to manipulate data in a Pandas DataFrame? Can you give an example of when you might use one of these functions?"
   ]
  },
  {
   "cell_type": "markdown",
   "id": "a95d29db-6d38-481a-8608-d2ba564fc36f",
   "metadata": {},
   "source": [
    "#solution\n",
    "Pandas provides a wide range of functions for data manipulation in DataFrame objects. Some common functions include:\n",
    "loc[] and iloc[]: Used for selecting rows and columns by label (loc[]) or by integer position (iloc[]).\n",
    "\n",
    "sort_values():- Sort Dataframe by the specified column.\n",
    "\n",
    "head():- It is used to display the first rows .By default it display 5 rows if not specified.\n",
    "\n",
    "tail():- It is used to display the last rows. By default it display last 5 rows if not specified \n"
   ]
  },
  {
   "cell_type": "code",
   "execution_count": 21,
   "id": "3d95c40b-154c-4abb-8542-364748b81e1b",
   "metadata": {},
   "outputs": [
    {
     "data": {
      "text/html": [
       "<div>\n",
       "<style scoped>\n",
       "    .dataframe tbody tr th:only-of-type {\n",
       "        vertical-align: middle;\n",
       "    }\n",
       "\n",
       "    .dataframe tbody tr th {\n",
       "        vertical-align: top;\n",
       "    }\n",
       "\n",
       "    .dataframe thead th {\n",
       "        text-align: right;\n",
       "    }\n",
       "</style>\n",
       "<table border=\"1\" class=\"dataframe\">\n",
       "  <thead>\n",
       "    <tr style=\"text-align: right;\">\n",
       "      <th></th>\n",
       "      <th>Name</th>\n",
       "      <th>Age</th>\n",
       "    </tr>\n",
       "  </thead>\n",
       "  <tbody>\n",
       "    <tr>\n",
       "      <th>0</th>\n",
       "      <td>Aman</td>\n",
       "      <td>22</td>\n",
       "    </tr>\n",
       "    <tr>\n",
       "      <th>1</th>\n",
       "      <td>chaman</td>\n",
       "      <td>25</td>\n",
       "    </tr>\n",
       "    <tr>\n",
       "      <th>3</th>\n",
       "      <td>lalu</td>\n",
       "      <td>62</td>\n",
       "    </tr>\n",
       "  </tbody>\n",
       "</table>\n",
       "</div>"
      ],
      "text/plain": [
       "     Name  Age\n",
       "0    Aman   22\n",
       "1  chaman   25\n",
       "3    lalu   62"
      ]
     },
     "execution_count": 21,
     "metadata": {},
     "output_type": "execute_result"
    }
   ],
   "source": [
    "#example of using loc() \n",
    "import pandas as pd\n",
    "\n",
    "data  = {'Name':['Aman','chaman','shalu','lalu'],'Age':[22,25,12,62]}\n",
    "\n",
    "df = pd.DataFrame(data)\n",
    "\n",
    "\n",
    "df.loc[df['Age']>20]"
   ]
  },
  {
   "cell_type": "code",
   "execution_count": 22,
   "id": "12495d3c-e5af-4516-8a60-f4c3797c9513",
   "metadata": {},
   "outputs": [],
   "source": [
    "#example of sort_values()\n",
    "df_sorted = df.sort_values(by = 'Age')"
   ]
  },
  {
   "cell_type": "code",
   "execution_count": 23,
   "id": "5bf437c1-3c2a-4c3e-9cb7-9774771e11df",
   "metadata": {},
   "outputs": [
    {
     "data": {
      "text/html": [
       "<div>\n",
       "<style scoped>\n",
       "    .dataframe tbody tr th:only-of-type {\n",
       "        vertical-align: middle;\n",
       "    }\n",
       "\n",
       "    .dataframe tbody tr th {\n",
       "        vertical-align: top;\n",
       "    }\n",
       "\n",
       "    .dataframe thead th {\n",
       "        text-align: right;\n",
       "    }\n",
       "</style>\n",
       "<table border=\"1\" class=\"dataframe\">\n",
       "  <thead>\n",
       "    <tr style=\"text-align: right;\">\n",
       "      <th></th>\n",
       "      <th>Name</th>\n",
       "      <th>Age</th>\n",
       "    </tr>\n",
       "  </thead>\n",
       "  <tbody>\n",
       "    <tr>\n",
       "      <th>2</th>\n",
       "      <td>shalu</td>\n",
       "      <td>12</td>\n",
       "    </tr>\n",
       "    <tr>\n",
       "      <th>0</th>\n",
       "      <td>Aman</td>\n",
       "      <td>22</td>\n",
       "    </tr>\n",
       "    <tr>\n",
       "      <th>1</th>\n",
       "      <td>chaman</td>\n",
       "      <td>25</td>\n",
       "    </tr>\n",
       "    <tr>\n",
       "      <th>3</th>\n",
       "      <td>lalu</td>\n",
       "      <td>62</td>\n",
       "    </tr>\n",
       "  </tbody>\n",
       "</table>\n",
       "</div>"
      ],
      "text/plain": [
       "     Name  Age\n",
       "2   shalu   12\n",
       "0    Aman   22\n",
       "1  chaman   25\n",
       "3    lalu   62"
      ]
     },
     "execution_count": 23,
     "metadata": {},
     "output_type": "execute_result"
    }
   ],
   "source": [
    "df_sorted"
   ]
  },
  {
   "cell_type": "code",
   "execution_count": 24,
   "id": "f17564df-5dfd-4dfc-8463-0c893f8186dd",
   "metadata": {},
   "outputs": [
    {
     "data": {
      "text/html": [
       "<div>\n",
       "<style scoped>\n",
       "    .dataframe tbody tr th:only-of-type {\n",
       "        vertical-align: middle;\n",
       "    }\n",
       "\n",
       "    .dataframe tbody tr th {\n",
       "        vertical-align: top;\n",
       "    }\n",
       "\n",
       "    .dataframe thead th {\n",
       "        text-align: right;\n",
       "    }\n",
       "</style>\n",
       "<table border=\"1\" class=\"dataframe\">\n",
       "  <thead>\n",
       "    <tr style=\"text-align: right;\">\n",
       "      <th></th>\n",
       "      <th>Name</th>\n",
       "      <th>Age</th>\n",
       "    </tr>\n",
       "  </thead>\n",
       "  <tbody>\n",
       "    <tr>\n",
       "      <th>0</th>\n",
       "      <td>Aman</td>\n",
       "      <td>22</td>\n",
       "    </tr>\n",
       "    <tr>\n",
       "      <th>1</th>\n",
       "      <td>chaman</td>\n",
       "      <td>25</td>\n",
       "    </tr>\n",
       "  </tbody>\n",
       "</table>\n",
       "</div>"
      ],
      "text/plain": [
       "     Name  Age\n",
       "0    Aman   22\n",
       "1  chaman   25"
      ]
     },
     "execution_count": 24,
     "metadata": {},
     "output_type": "execute_result"
    }
   ],
   "source": [
    "#example of head()\n",
    "df.head(2)"
   ]
  },
  {
   "cell_type": "code",
   "execution_count": 25,
   "id": "1443eadb-63cf-46cd-bf97-95fe7659b1cb",
   "metadata": {},
   "outputs": [
    {
     "data": {
      "text/html": [
       "<div>\n",
       "<style scoped>\n",
       "    .dataframe tbody tr th:only-of-type {\n",
       "        vertical-align: middle;\n",
       "    }\n",
       "\n",
       "    .dataframe tbody tr th {\n",
       "        vertical-align: top;\n",
       "    }\n",
       "\n",
       "    .dataframe thead th {\n",
       "        text-align: right;\n",
       "    }\n",
       "</style>\n",
       "<table border=\"1\" class=\"dataframe\">\n",
       "  <thead>\n",
       "    <tr style=\"text-align: right;\">\n",
       "      <th></th>\n",
       "      <th>Name</th>\n",
       "      <th>Age</th>\n",
       "    </tr>\n",
       "  </thead>\n",
       "  <tbody>\n",
       "    <tr>\n",
       "      <th>1</th>\n",
       "      <td>chaman</td>\n",
       "      <td>25</td>\n",
       "    </tr>\n",
       "    <tr>\n",
       "      <th>2</th>\n",
       "      <td>shalu</td>\n",
       "      <td>12</td>\n",
       "    </tr>\n",
       "    <tr>\n",
       "      <th>3</th>\n",
       "      <td>lalu</td>\n",
       "      <td>62</td>\n",
       "    </tr>\n",
       "  </tbody>\n",
       "</table>\n",
       "</div>"
      ],
      "text/plain": [
       "     Name  Age\n",
       "1  chaman   25\n",
       "2   shalu   12\n",
       "3    lalu   62"
      ]
     },
     "execution_count": 25,
     "metadata": {},
     "output_type": "execute_result"
    }
   ],
   "source": [
    "#example of tail()\n",
    "df.tail(3)"
   ]
  },
  {
   "cell_type": "code",
   "execution_count": null,
   "id": "d1d5f512-ab16-4a33-bbb8-995b6a5427e1",
   "metadata": {},
   "outputs": [],
   "source": []
  },
  {
   "cell_type": "code",
   "execution_count": null,
   "id": "04dedefc-f9a0-46d4-b5e1-1327880c36bd",
   "metadata": {},
   "outputs": [],
   "source": []
  }
 ],
 "metadata": {
  "kernelspec": {
   "display_name": "Python 3 (ipykernel)",
   "language": "python",
   "name": "python3"
  },
  "language_info": {
   "codemirror_mode": {
    "name": "ipython",
    "version": 3
   },
   "file_extension": ".py",
   "mimetype": "text/x-python",
   "name": "python",
   "nbconvert_exporter": "python",
   "pygments_lexer": "ipython3",
   "version": "3.10.8"
  }
 },
 "nbformat": 4,
 "nbformat_minor": 5
}
